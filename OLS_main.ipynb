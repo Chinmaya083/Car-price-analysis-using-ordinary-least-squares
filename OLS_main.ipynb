{
 "cells": [
  {
   "cell_type": "code",
   "execution_count": 3,
   "metadata": {},
   "outputs": [],
   "source": [
    "import statistics\n",
    "import numpy as np\n",
    "import pandas as pd\n",
    "import seaborn as sns\n",
    "import matplotlib.pyplot as plt\n",
    "from sklearn.datasets import load_iris\n",
    "from sklearn import preprocessing\n",
    "import scipy.stats as stats\n",
    "from statistics import mean,stdev\n",
    "from statsmodels.graphics.gofplots import qqplot\n",
    "import math\n",
    "from sklearn.metrics import mean_squared_error, r2_score\n",
    "from sklearn.linear_model import LinearRegression\n",
    "from sklearn.model_selection import train_test_split\n",
    "from sklearn import datasets, linear_model"
   ]
  },
  {
   "cell_type": "code",
   "execution_count": 4,
   "metadata": {},
   "outputs": [],
   "source": [
    "data = pd.read_csv('cleanDataset.csv')"
   ]
  },
  {
   "cell_type": "code",
   "execution_count": 5,
   "metadata": {},
   "outputs": [
    {
     "data": {
      "text/html": [
       "<div>\n",
       "<style scoped>\n",
       "    .dataframe tbody tr th:only-of-type {\n",
       "        vertical-align: middle;\n",
       "    }\n",
       "\n",
       "    .dataframe tbody tr th {\n",
       "        vertical-align: top;\n",
       "    }\n",
       "\n",
       "    .dataframe thead th {\n",
       "        text-align: right;\n",
       "    }\n",
       "</style>\n",
       "<table border=\"1\" class=\"dataframe\">\n",
       "  <thead>\n",
       "    <tr style=\"text-align: right;\">\n",
       "      <th></th>\n",
       "      <th>price</th>\n",
       "      <th>vehicleType</th>\n",
       "      <th>yearOfRegistration</th>\n",
       "      <th>gearbox</th>\n",
       "      <th>powerPS</th>\n",
       "      <th>kilometer</th>\n",
       "      <th>monthOfRegistration</th>\n",
       "      <th>fuelType</th>\n",
       "      <th>brand</th>\n",
       "      <th>notRepairedDamage</th>\n",
       "    </tr>\n",
       "  </thead>\n",
       "  <tbody>\n",
       "    <tr>\n",
       "      <th>0</th>\n",
       "      <td>250</td>\n",
       "      <td>kleinwagen</td>\n",
       "      <td>1996</td>\n",
       "      <td>manuell</td>\n",
       "      <td>44.0</td>\n",
       "      <td>150000</td>\n",
       "      <td>3</td>\n",
       "      <td>benzin</td>\n",
       "      <td>volkswagen</td>\n",
       "      <td>nein</td>\n",
       "    </tr>\n",
       "    <tr>\n",
       "      <th>1</th>\n",
       "      <td>9500</td>\n",
       "      <td>cabrio</td>\n",
       "      <td>2017</td>\n",
       "      <td>automatik</td>\n",
       "      <td>193.0</td>\n",
       "      <td>150000</td>\n",
       "      <td>3</td>\n",
       "      <td>benzin</td>\n",
       "      <td>mercedes_benz</td>\n",
       "      <td>nein</td>\n",
       "    </tr>\n",
       "    <tr>\n",
       "      <th>2</th>\n",
       "      <td>6077</td>\n",
       "      <td>kombi</td>\n",
       "      <td>1998</td>\n",
       "      <td>manuell</td>\n",
       "      <td>115.0</td>\n",
       "      <td>150000</td>\n",
       "      <td>2</td>\n",
       "      <td>diesel</td>\n",
       "      <td>volvo</td>\n",
       "      <td>nein</td>\n",
       "    </tr>\n",
       "    <tr>\n",
       "      <th>3</th>\n",
       "      <td>1750</td>\n",
       "      <td>kleinwagen</td>\n",
       "      <td>2002</td>\n",
       "      <td>manuell</td>\n",
       "      <td>75.0</td>\n",
       "      <td>125000</td>\n",
       "      <td>1</td>\n",
       "      <td>benzin</td>\n",
       "      <td>opel</td>\n",
       "      <td>nein</td>\n",
       "    </tr>\n",
       "    <tr>\n",
       "      <th>4</th>\n",
       "      <td>790</td>\n",
       "      <td>kleinwagen</td>\n",
       "      <td>1997</td>\n",
       "      <td>manuell</td>\n",
       "      <td>60.0</td>\n",
       "      <td>150000</td>\n",
       "      <td>6</td>\n",
       "      <td>benzin</td>\n",
       "      <td>volkswagen</td>\n",
       "      <td>nein</td>\n",
       "    </tr>\n",
       "  </tbody>\n",
       "</table>\n",
       "</div>"
      ],
      "text/plain": [
       "   price vehicleType  yearOfRegistration    gearbox  powerPS  kilometer  \\\n",
       "0    250  kleinwagen                1996    manuell     44.0     150000   \n",
       "1   9500      cabrio                2017  automatik    193.0     150000   \n",
       "2   6077       kombi                1998    manuell    115.0     150000   \n",
       "3   1750  kleinwagen                2002    manuell     75.0     125000   \n",
       "4    790  kleinwagen                1997    manuell     60.0     150000   \n",
       "\n",
       "   monthOfRegistration fuelType          brand notRepairedDamage  \n",
       "0                    3   benzin     volkswagen              nein  \n",
       "1                    3   benzin  mercedes_benz              nein  \n",
       "2                    2   diesel          volvo              nein  \n",
       "3                    1   benzin           opel              nein  \n",
       "4                    6   benzin     volkswagen              nein  "
      ]
     },
     "execution_count": 5,
     "metadata": {},
     "output_type": "execute_result"
    }
   ],
   "source": [
    "data.head()"
   ]
  },
  {
   "cell_type": "code",
   "execution_count": 45,
   "metadata": {},
   "outputs": [],
   "source": [
    "def estimate_coef(x, y): \n",
    "    n = 750\n",
    "  \n",
    "    m_x, m_y = x.mean(), y.mean()\n",
    "  \n",
    "    numa =  sum(y*x) - n*m_y*m_x \n",
    "    numb = sum(x*x) - n*m_x*m_x\n",
    "  \n",
    "    b_1 = numa / numb \n",
    "    b_0 = m_y - b_1*m_x \n",
    "  \n",
    "    return(b_0, b_1) \n",
    "\n",
    "def plot_regression_line(x, y, b_0,b_1): \n",
    "    plt.scatter(x, y, color = \"b\", \n",
    "               marker = \"o\", s = 30) \n",
    "  \n",
    "    y_pred = b_0 + b_1*x \n",
    "  \n",
    "    plt.plot(x, y_pred, color = \"r\") \n",
    "    plt.xlabel('Power per stroke') \n",
    "    plt.ylabel('Price') \n",
    "  \n",
    "    plt.show() "
   ]
  },
  {
   "cell_type": "code",
   "execution_count": 46,
   "metadata": {},
   "outputs": [],
   "source": [
    "from sklearn import preprocessing\n",
    "x = data[['powerPS']].values.astype(float)\n",
    "\n",
    "# Create a minimum and maximum processor object\n",
    "min_max_scaler = preprocessing.MinMaxScaler()\n",
    "\n",
    "# Create an object to transform the data to fit minmax processor\n",
    "x_scaled = min_max_scaler.fit_transform(x)\n",
    "\n",
    "# Run the normalizer on the dataframe\n",
    "norm_PPS = pd.DataFrame(x_scaled)\n",
    "\n",
    "y = data[['price']].values.astype(float)\n",
    "\n",
    "# Create a minimum and maximum processor object\n",
    "min_max_scaler = preprocessing.MinMaxScaler()\n",
    "\n",
    "# Create an object to transform the data to fit minmax processor\n",
    "y_scaled = min_max_scaler.fit_transform(y)\n",
    "\n",
    "# Run the normalizer on the dataframe\n",
    "norm_price = pd.DataFrame(y_scaled)"
   ]
  },
  {
   "cell_type": "code",
   "execution_count": 47,
   "metadata": {},
   "outputs": [
    {
     "data": {
      "text/plain": [
       "Text(0, 0.5, 'Price')"
      ]
     },
     "execution_count": 47,
     "metadata": {},
     "output_type": "execute_result"
    },
    {
     "data": {
      "image/png": "[encoded data removed]",
      "text/plain": [
       "<Figure size 432x288 with 1 Axes>"
      ]
     },
     "metadata": {
      "needs_background": "light"
     },
     "output_type": "display_data"
    }
   ],
   "source": [
    "# Scatterplot to visualise\n",
    "\n",
    "import matplotlib.pyplot as plt\n",
    "plt.scatter(data[\"powerPS\"], data[\"price\"])\n",
    "plt.xlabel(\"Power PS\")\n",
    "plt.ylabel(\"Price\")"
   ]
  },
  {
   "cell_type": "code",
   "execution_count": 48,
   "metadata": {},
   "outputs": [
    {
     "data": {
      "text/plain": [
       "(0.026326684076787565, 0.5274069701710811)"
      ]
     },
     "execution_count": 48,
     "metadata": {},
     "output_type": "execute_result"
    }
   ],
   "source": [
    "# Estimate the linear regression parameters using the normalised powerPS and price\n",
    "\n",
    "a,b = estimate_coef(norm_PPS[0], norm_price[0])\n",
    "a,b"
   ]
  },
  {
   "cell_type": "code",
   "execution_count": 49,
   "metadata": {},
   "outputs": [
    {
     "data": {
      "image/png": "[encoded data removed]",
      "text/plain": [
       "<Figure size 432x288 with 1 Axes>"
      ]
     },
     "metadata": {
      "needs_background": "light"
     },
     "output_type": "display_data"
    }
   ],
   "source": [
    "# Plotting the regression line\n",
    "\n",
    "plot_regression_line (norm_PPS[0], norm_price[0], a, b)"
   ]
  },
  {
   "cell_type": "code",
   "execution_count": 50,
   "metadata": {},
   "outputs": [
    {
     "name": "stdout",
     "output_type": "stream",
     "text": [
      "stat =  0.3897261996183004 , p =  1.2962658915998578e-28\n",
      "Reject H0\n"
     ]
    }
   ],
   "source": [
    "from scipy.stats import pearsonr\n",
    "# Null hypothesis (H0): powerPS and price are independent.\n",
    "# Alternate hypothesis (H1): powerPS and price dependent.\n",
    "data1 = data.powerPS\n",
    "data2 = data.price\n",
    "stat, p = pearsonr(data1, data2)\n",
    "print('stat = ',stat,', p = ',p)\n",
    "if p > 0.05:\n",
    "    print('Failed to reject H0')\n",
    "else:\n",
    "    print('Reject H0')\n"
   ]
  },
  {
   "cell_type": "code",
   "execution_count": 51,
   "metadata": {},
   "outputs": [
    {
     "data": {
      "text/plain": [
       "0.3897261996183004"
      ]
     },
     "execution_count": 51,
     "metadata": {},
     "output_type": "execute_result"
    }
   ],
   "source": [
    "# Calculating the correlation (Pearson's) between price and the power per stroke\n",
    "\n",
    "corr, _ = pearsonr(data.price, data.powerPS)\n",
    "corr"
   ]
  }
 ],
 "metadata": {
  "kernelspec": {
   "display_name": "Python 3",
   "language": "python",
   "name": "python3"
  },
  "language_info": {
   "codemirror_mode": {
    "name": "ipython",
    "version": 3
   },
   "file_extension": ".py",
   "mimetype": "text/x-python",
   "name": "python",
   "nbconvert_exporter": "python",
   "pygments_lexer": "ipython3",
   "version": "3.7.3"
  }
 },
 "nbformat": 4,
 "nbformat_minor": 2
}
